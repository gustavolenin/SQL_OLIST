{
 "cells": [
  {
   "cell_type": "code",
   "execution_count": 1,
   "id": "f0ec1d59",
   "metadata": {
    "_cell_guid": "b1076dfc-b9ad-4769-8c92-a6c4dae69d19",
    "_uuid": "8f2839f25d086af736a60e9eeb907d3b93b6e0e5",
    "execution": {
     "iopub.execute_input": "2022-07-15T01:50:13.605969Z",
     "iopub.status.busy": "2022-07-15T01:50:13.604984Z",
     "iopub.status.idle": "2022-07-15T01:50:13.621774Z",
     "shell.execute_reply": "2022-07-15T01:50:13.620594Z"
    },
    "papermill": {
     "duration": 0.027301,
     "end_time": "2022-07-15T01:50:13.624879",
     "exception": false,
     "start_time": "2022-07-15T01:50:13.597578",
     "status": "completed"
    },
    "tags": []
   },
   "outputs": [],
   "source": [
    "# Importando bibliotecas utilizadas: numpy, pandas e sqlite3\n",
    "\n",
    "import numpy as np # linear algebra\n",
    "import pandas as pd # data processing, CSV file I/O (e.g. pd.read_csv)\n",
    "import sqlite3 # biblioteca que implementa um banco de dados SQL"
   ]
  },
  {
   "cell_type": "code",
   "execution_count": 2,
   "id": "767f76ad",
   "metadata": {
    "execution": {
     "iopub.execute_input": "2022-07-15T01:50:13.636124Z",
     "iopub.status.busy": "2022-07-15T01:50:13.634953Z",
     "iopub.status.idle": "2022-07-15T01:50:17.986781Z",
     "shell.execute_reply": "2022-07-15T01:50:17.985656Z"
    },
    "papermill": {
     "duration": 4.360337,
     "end_time": "2022-07-15T01:50:17.989826",
     "exception": false,
     "start_time": "2022-07-15T01:50:13.629489",
     "status": "completed"
    },
    "tags": []
   },
   "outputs": [],
   "source": [
    "# Criando DataFrames a partir dos arquivos csv\n",
    "\n",
    "df1 = pd.read_csv('/kaggle/input/brazilian-ecommerce/olist_customers_dataset.csv')\n",
    "df2 = pd.read_csv('/kaggle/input/brazilian-ecommerce/olist_sellers_dataset.csv')\n",
    "df3 = pd.read_csv('/kaggle/input/brazilian-ecommerce/olist_order_reviews_dataset.csv')\n",
    "df4 = pd.read_csv('/kaggle/input/brazilian-ecommerce/olist_order_items_dataset.csv')\n",
    "df5 = pd.read_csv('/kaggle/input/brazilian-ecommerce/olist_products_dataset.csv')\n",
    "df6 = pd.read_csv('/kaggle/input/brazilian-ecommerce/olist_geolocation_dataset.csv')\n",
    "df7 = pd.read_csv('/kaggle/input/brazilian-ecommerce/product_category_name_translation.csv')\n",
    "df8 = pd.read_csv('/kaggle/input/brazilian-ecommerce/olist_orders_dataset.csv')\n",
    "df9 = pd.read_csv('/kaggle/input/brazilian-ecommerce/olist_order_payments_dataset.csv')"
   ]
  },
  {
   "cell_type": "code",
   "execution_count": 3,
   "id": "372c8a64",
   "metadata": {
    "execution": {
     "iopub.execute_input": "2022-07-15T01:50:18.000484Z",
     "iopub.status.busy": "2022-07-15T01:50:18.000035Z",
     "iopub.status.idle": "2022-07-15T01:50:18.005548Z",
     "shell.execute_reply": "2022-07-15T01:50:18.004129Z"
    },
    "papermill": {
     "duration": 0.013805,
     "end_time": "2022-07-15T01:50:18.007927",
     "exception": false,
     "start_time": "2022-07-15T01:50:17.994122",
     "status": "completed"
    },
    "tags": []
   },
   "outputs": [],
   "source": [
    "# Criando um banco de dados\n",
    "conexao = sqlite3.connect('Banco_Dados')\n",
    "\n",
    "# Apontando para o banco\n",
    "cursor = conexao.cursor()"
   ]
  },
  {
   "cell_type": "code",
   "execution_count": 4,
   "id": "9963e2cc",
   "metadata": {
    "execution": {
     "iopub.execute_input": "2022-07-15T01:50:18.018715Z",
     "iopub.status.busy": "2022-07-15T01:50:18.017770Z",
     "iopub.status.idle": "2022-07-15T01:50:24.404990Z",
     "shell.execute_reply": "2022-07-15T01:50:24.403733Z"
    },
    "papermill": {
     "duration": 6.39556,
     "end_time": "2022-07-15T01:50:24.407706",
     "exception": false,
     "start_time": "2022-07-15T01:50:18.012146",
     "status": "completed"
    },
    "tags": []
   },
   "outputs": [],
   "source": [
    "# Criando tabelas a partir de DataFrames\n",
    "\n",
    "df1.to_sql('customer', conexao, if_exists='replace', index=False)  \n",
    "df2.to_sql('sellers', conexao, if_exists='replace', index=False)  \n",
    "df3.to_sql('order_reviews', conexao, if_exists='replace', index=False)  \n",
    "df4.to_sql('order_items', conexao, if_exists='replace', index=False)  \n",
    "df5.to_sql('products', conexao, if_exists='replace', index=False)  \n",
    "df6.to_sql('geolocation', conexao, if_exists='replace', index=False)  \n",
    "df7.to_sql('product_category_name', conexao, if_exists='replace', index=False)  \n",
    "df8.to_sql('orders', conexao, if_exists='replace', index=False)  \n",
    "df9.to_sql('order_payments', conexao, if_exists='replace', index=False)  \n",
    "\n",
    "# Atualizando o banco de dados\n",
    "conexao.commit() "
   ]
  },
  {
   "cell_type": "code",
   "execution_count": 5,
   "id": "7ece5be3",
   "metadata": {
    "execution": {
     "iopub.execute_input": "2022-07-15T01:50:24.418059Z",
     "iopub.status.busy": "2022-07-15T01:50:24.417652Z",
     "iopub.status.idle": "2022-07-15T01:50:24.458080Z",
     "shell.execute_reply": "2022-07-15T01:50:24.456706Z"
    },
    "papermill": {
     "duration": 0.049983,
     "end_time": "2022-07-15T01:50:24.461917",
     "exception": false,
     "start_time": "2022-07-15T01:50:24.411934",
     "status": "completed"
    },
    "tags": []
   },
   "outputs": [
    {
     "name": "stdout",
     "output_type": "stream",
     "text": [
      "('dvds_blu_ray', 3992.0)\n",
      "('automotivo', 3988.0)\n",
      "('esporte_lazer', 3985.0)\n",
      "('cool_stuff', 3976.0)\n",
      "('beleza_saude', 3963.0)\n"
     ]
    }
   ],
   "source": [
    "# Consulta 01 - As 5 categorias de produtos com maior descrição\n",
    "consulta = cursor.execute(\n",
    "'''\n",
    "SELECT \n",
    "    product_category_name,\n",
    "    MAX(product_description_lenght) as max_descricao\n",
    "FROM products\n",
    "\n",
    "GROUP BY (product_category_name)\n",
    "ORDER BY (max_descricao) DESC\n",
    "\n",
    "LIMIT 5\n",
    "'''\n",
    ").fetchall()\n",
    "\n",
    "for row in consulta:\n",
    "    print(row)"
   ]
  },
  {
   "cell_type": "code",
   "execution_count": 6,
   "id": "ec2977b4",
   "metadata": {
    "execution": {
     "iopub.execute_input": "2022-07-15T01:50:24.473232Z",
     "iopub.status.busy": "2022-07-15T01:50:24.472836Z",
     "iopub.status.idle": "2022-07-15T01:50:24.634385Z",
     "shell.execute_reply": "2022-07-15T01:50:24.633042Z"
    },
    "papermill": {
     "duration": 0.170126,
     "end_time": "2022-07-15T01:50:24.637093",
     "exception": false,
     "start_time": "2022-07-15T01:50:24.466967",
     "status": "completed"
    },
    "tags": []
   },
   "outputs": [
    {
     "name": "stdout",
     "output_type": "stream",
     "text": [
      "(80342, 'SP')\n",
      "(8827, 'MG')\n",
      "(8671, 'PR')\n",
      "(4818, 'RJ')\n",
      "(4075, 'SC')\n",
      "(2199, 'RS')\n",
      "(899, 'DF')\n",
      "(643, 'BA')\n",
      "(520, 'GO')\n",
      "(448, 'PE')\n",
      "(405, 'MA')\n",
      "(372, 'ES')\n",
      "(145, 'MT')\n",
      "(94, 'CE')\n",
      "(56, 'RN')\n",
      "(50, 'MS')\n",
      "(38, 'PB')\n",
      "(14, 'RO')\n",
      "(12, 'PI')\n",
      "(10, 'SE')\n",
      "(8, 'PA')\n",
      "(3, 'AM')\n",
      "(1, 'AC')\n"
     ]
    }
   ],
   "source": [
    "# Consulta 01 - A quantidade de itens vendidos por estado \n",
    "consulta = cursor.execute(\n",
    "    '''\n",
    "    SELECT \n",
    "    COUNT(*) as total_vendas,\n",
    "    t2.seller_state\n",
    "    FROM order_items as t1\n",
    "\n",
    "    INNER JOIN sellers as t2\n",
    "    ON t1.seller_id = t2.seller_id\n",
    "\n",
    "    GROUP BY (seller_state)\n",
    "    ORDER BY COUNT(*) DESC\n",
    "    '''\n",
    ").fetchall()\n",
    "\n",
    "for row in consulta:\n",
    "    print(row)"
   ]
  },
  {
   "cell_type": "code",
   "execution_count": 7,
   "id": "eada4605",
   "metadata": {
    "execution": {
     "iopub.execute_input": "2022-07-15T01:50:24.648210Z",
     "iopub.status.busy": "2022-07-15T01:50:24.647803Z",
     "iopub.status.idle": "2022-07-15T01:50:24.881266Z",
     "shell.execute_reply": "2022-07-15T01:50:24.879643Z"
    },
    "papermill": {
     "duration": 0.243839,
     "end_time": "2022-07-15T01:50:24.885811",
     "exception": false,
     "start_time": "2022-07-15T01:50:24.641972",
     "status": "completed"
    },
    "tags": []
   },
   "outputs": [
    {
     "name": "stdout",
     "output_type": "stream",
     "text": [
      "(527, 'aca2eb7d00ea1a7b8ebd4e68314663af', '955fee9216a65b617aa5c0531780ce60', 69.9, 'SP')\n",
      "(488, '99a4788cb24856965c36a24e339b6058', '4a3ca9315b744ce9f8e9374361493884', 74.0, 'SP')\n",
      "(484, '422879e10f46682990de24d770e7f83d', '1f50f920176fa81dab994f9023523100', 53.9, 'SP')\n",
      "(392, '389d119b48cf3043d311335e499d9c6b', '1f50f920176fa81dab994f9023523100', 49.9, 'SP')\n",
      "(388, '368c6c730842d78016ad823897a372db', '1f50f920176fa81dab994f9023523100', 49.9, 'SP')\n"
     ]
    }
   ],
   "source": [
    "# Consulta 02 - As 5 categorias de produtos com maior descrição\n",
    "consulta = cursor.execute(\n",
    "'''\n",
    "SELECT COUNT(*) as total_vendas, t1.product_id, t1.seller_id, t1.price, t2.seller_state \n",
    "FROM order_items as t1\n",
    "\n",
    "INNER JOIN sellers as t2\n",
    "on t1.seller_id = t2.seller_id\n",
    "\n",
    "GROUP BY(product_id)\n",
    "ORDER BY (total_vendas) DESC\n",
    "LIMIT 5\n",
    "'''\n",
    ").fetchall()\n",
    "\n",
    "for row in consulta:\n",
    "    print(row)"
   ]
  },
  {
   "cell_type": "code",
   "execution_count": 8,
   "id": "2abc25f6",
   "metadata": {
    "execution": {
     "iopub.execute_input": "2022-07-15T01:50:24.897486Z",
     "iopub.status.busy": "2022-07-15T01:50:24.897065Z",
     "iopub.status.idle": "2022-07-15T01:50:25.394748Z",
     "shell.execute_reply": "2022-07-15T01:50:25.393135Z"
    },
    "papermill": {
     "duration": 0.506656,
     "end_time": "2022-07-15T01:50:25.397668",
     "exception": false,
     "start_time": "2022-07-15T01:50:24.891012",
     "status": "completed"
    },
    "tags": []
   },
   "outputs": [
    {
     "name": "stdout",
     "output_type": "stream",
     "text": [
      "(11115, 'cama_mesa_banho')\n",
      "(9670, 'beleza_saude')\n",
      "(8641, 'esporte_lazer')\n",
      "(8334, 'moveis_decoracao')\n",
      "(7827, 'informatica_acessorios')\n"
     ]
    }
   ],
   "source": [
    "# Consulta 03 - As 5 categorias de produtos com maior quantidade de vendas\n",
    "consulta = cursor.execute(\n",
    "    '''\n",
    "    SELECT \n",
    "    COUNT(*),\n",
    "    t2.product_category_name\n",
    "    FROM order_items as t1\n",
    "\n",
    "    INNER JOIN products as t2\n",
    "    ON t1.product_id = t2.product_id\n",
    "\n",
    "    WHERE product_category_name IS NOT NULL\n",
    "    GROUP BY (product_category_name)\n",
    "    ORDER BY COUNT(*) DESC\n",
    "    LIMIT 5\n",
    "    '''\n",
    ").fetchall()\n",
    "\n",
    "for row in consulta:\n",
    "    print(row)"
   ]
  },
  {
   "cell_type": "code",
   "execution_count": 9,
   "id": "9fc4bc28",
   "metadata": {
    "execution": {
     "iopub.execute_input": "2022-07-15T01:50:25.408814Z",
     "iopub.status.busy": "2022-07-15T01:50:25.408404Z",
     "iopub.status.idle": "2022-07-15T01:50:26.032691Z",
     "shell.execute_reply": "2022-07-15T01:50:26.031277Z"
    },
    "papermill": {
     "duration": 0.633021,
     "end_time": "2022-07-15T01:50:26.035440",
     "exception": false,
     "start_time": "2022-07-15T01:50:25.402419",
     "status": "completed"
    },
    "tags": []
   },
   "outputs": [
    {
     "name": "stdout",
     "output_type": "stream",
     "text": [
      "(327, 'telefonia', 'BA')\n",
      "(154, 'pcs', 'BA')\n",
      "(42, 'informatica_acessorios', 'BA')\n",
      "(37, 'alimentos_bebidas', 'BA')\n",
      "(30, 'esporte_lazer', 'BA')\n"
     ]
    }
   ],
   "source": [
    "# Consulta 04 - As 5 categorias de produtos com maior quantidade de vendas no estado da Bahia\n",
    "consulta = cursor.execute(\n",
    "    '''\n",
    "    SELECT \n",
    "    COUNT(*),\n",
    "    t2.product_category_name,\n",
    "    t3.seller_state\n",
    "    FROM order_items as t1\n",
    "\n",
    "    INNER JOIN products as t2\n",
    "    ON t1.product_id = t2.product_id\n",
    "\n",
    "    INNER JOIN sellers as t3\n",
    "    ON t1.seller_id = t3.seller_id\n",
    "\n",
    "    WHERE product_category_name IS NOT NULL AND t3.seller_state = 'BA'\n",
    "    GROUP BY (product_category_name)\n",
    "    ORDER BY COUNT(*) DESC\n",
    "    LIMIT 5\n",
    "    '''\n",
    ").fetchall()\n",
    "\n",
    "for row in consulta:\n",
    "    print(row)"
   ]
  },
  {
   "cell_type": "code",
   "execution_count": 10,
   "id": "a2c5c308",
   "metadata": {
    "execution": {
     "iopub.execute_input": "2022-07-15T01:50:26.047678Z",
     "iopub.status.busy": "2022-07-15T01:50:26.047237Z",
     "iopub.status.idle": "2022-07-15T01:50:26.863838Z",
     "shell.execute_reply": "2022-07-15T01:50:26.862157Z"
    },
    "papermill": {
     "duration": 0.82657,
     "end_time": "2022-07-15T01:50:26.867053",
     "exception": false,
     "start_time": "2022-07-15T01:50:26.040483",
     "status": "completed"
    },
    "tags": []
   },
   "outputs": [
    {
     "name": "stdout",
     "output_type": "stream",
     "text": [
      "(0.005399999999999999, 'AC')\n",
      "(0.0017020000000000002, 'AM')\n",
      "(0.012763059097978332, 'BA')\n",
      "(0.03268337234042552, 'CE')\n",
      "(0.00973590101237348, 'DF')\n",
      "(0.018041810958904135, 'ES')\n",
      "(0.00881316274509804, 'GO')\n",
      "(0.004148427160493816, 'MA')\n",
      "(0.015427088610530874, 'MG')\n",
      "(0.008843680000000001, 'MS')\n",
      "(0.011890068965517251, 'MT')\n",
      "(0.010965500000000001, 'PA')\n",
      "(0.016248142857142857, 'PB')\n",
      "(0.005768658482142876, 'PE')\n",
      "(0.006488333333333333, 'PI')\n",
      "(0.014860858171680645, 'PR')\n",
      "(0.010811847633136126, 'RJ')\n",
      "(0.007077410714285713, 'RN')\n",
      "(0.009557142857142856, 'RO')\n",
      "(0.01647152533705254, 'RS')\n",
      "(0.01730793244575915, 'SC')\n",
      "(0.009654900000000003, 'SE')\n",
      "(0.015679711294642556, 'SP')\n"
     ]
    }
   ],
   "source": [
    "# Consulta 05 - A média de volume (em metros cúbicos) dos produtos por cada estado\n",
    "consulta = cursor.execute(\n",
    "    '''\n",
    "    SELECT \n",
    "    AVG(t2.product_length_cm/100*\n",
    "    t2.product_height_cm/100*\n",
    "    t2.product_width_cm/100) as avg_product_volume_m³,\n",
    "    t3.seller_state\n",
    "    FROM order_items as t1\n",
    "\n",
    "    INNER JOIN products as t2\n",
    "    ON t1.product_id = t2.product_id\n",
    "\n",
    "    INNER JOIN sellers as t3\n",
    "    ON t1.seller_id = t3.seller_id\n",
    "\n",
    "    WHERE product_category_name IS NOT NULL\n",
    "    GROUP BY (seller_state)\n",
    "    '''\n",
    ").fetchall()\n",
    "\n",
    "for row in consulta:\n",
    "    print(row)"
   ]
  },
  {
   "cell_type": "code",
   "execution_count": 11,
   "id": "a47e6213",
   "metadata": {
    "execution": {
     "iopub.execute_input": "2022-07-15T01:50:26.879336Z",
     "iopub.status.busy": "2022-07-15T01:50:26.878413Z",
     "iopub.status.idle": "2022-07-15T01:50:27.207417Z",
     "shell.execute_reply": "2022-07-15T01:50:27.205964Z"
    },
    "papermill": {
     "duration": 0.33815,
     "end_time": "2022-07-15T01:50:27.210252",
     "exception": false,
     "start_time": "2022-07-15T01:50:26.872102",
     "status": "completed"
    },
    "tags": []
   },
   "outputs": [
    {
     "name": "stdout",
     "output_type": "stream",
     "text": [
      "(80342, 'SP')\n",
      "(4075, 'SC')\n",
      "(8, 'PA')\n",
      "(643, 'BA')\n",
      "(3, 'AM')\n"
     ]
    }
   ],
   "source": [
    "# Consulta 06 - A quantidade de vendas por produto cuja quantidade de fotos do mesmo é maior que 2 \n",
    "# por estado\n",
    "consulta = cursor.execute(\n",
    "    '''\n",
    "    SELECT \n",
    "    COUNT(*),\n",
    "    t3.seller_state\n",
    "    FROM order_items as t1\n",
    "\n",
    "    INNER JOIN products as t2\n",
    "    ON t1.product_id = t2.product_id\n",
    "\n",
    "    INNER JOIN sellers as t3\n",
    "    ON t1.seller_id = t3.seller_id\n",
    "\n",
    "    GROUP BY (seller_state)\n",
    "    HAVING product_photos_qty > 2 \n",
    "\n",
    "    ORDER BY (seller_state) DESC\n",
    "    '''\n",
    ").fetchall()\n",
    "\n",
    "for row in consulta:\n",
    "    print(row)"
   ]
  }
 ],
 "metadata": {
  "kernelspec": {
   "display_name": "Python 3",
   "language": "python",
   "name": "python3"
  },
  "language_info": {
   "codemirror_mode": {
    "name": "ipython",
    "version": 3
   },
   "file_extension": ".py",
   "mimetype": "text/x-python",
   "name": "python",
   "nbconvert_exporter": "python",
   "pygments_lexer": "ipython3",
   "version": "3.7.12"
  },
  "papermill": {
   "default_parameters": {},
   "duration": 26.140367,
   "end_time": "2022-07-15T01:50:28.042063",
   "environment_variables": {},
   "exception": null,
   "input_path": "__notebook__.ipynb",
   "output_path": "__notebook__.ipynb",
   "parameters": {},
   "start_time": "2022-07-15T01:50:01.901696",
   "version": "2.3.4"
  }
 },
 "nbformat": 4,
 "nbformat_minor": 5
}
